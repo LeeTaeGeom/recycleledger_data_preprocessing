{
 "cells": [
  {
   "cell_type": "markdown",
   "id": "c328fef6",
   "metadata": {
    "id": "c328fef6"
   },
   "source": [
    "### 전처리된 음식점데이터 불러오기"
   ]
  },
  {
   "cell_type": "code",
   "execution_count": null,
   "id": "2811b3f8",
   "metadata": {
    "id": "2811b3f8"
   },
   "outputs": [],
   "source": [
    "import pandas as pd\n",
    "restaurant=pd.read_csv('test.csv',encoding='utf-8',error_bad_lines=False, low_memory = False)\n"
   ]
  },
  {
   "cell_type": "code",
   "execution_count": null,
   "id": "baeb9296",
   "metadata": {
    "id": "baeb9296"
   },
   "outputs": [],
   "source": [
    "restaurant.info()"
   ]
  },
  {
   "cell_type": "code",
   "execution_count": null,
   "id": "23fe40bb",
   "metadata": {},
   "outputs": [],
   "source": [
    "restaurant.head()"
   ]
  },
  {
   "cell_type": "markdown",
   "id": "3fc42033",
   "metadata": {
    "id": "3fc42033"
   },
   "source": [
    "### 아래에서 실행시켜서 입력"
   ]
  },
  {
   "cell_type": "code",
   "execution_count": null,
   "id": "0889dc03",
   "metadata": {
    "id": "0889dc03"
   },
   "outputs": [],
   "source": [
    "xlsxname=input('파일명 입력 : ').strip() #같은경로에 있는 읽어올 엑셀 파일명 입력"
   ]
  },
  {
   "cell_type": "code",
   "execution_count": null,
   "id": "ddf857a8",
   "metadata": {},
   "outputs": [],
   "source": [
    "sheetlen=int(input('시트 개수 입력 : '))"
   ]
  },
  {
   "cell_type": "code",
   "execution_count": null,
   "id": "95146b09",
   "metadata": {},
   "outputs": [],
   "source": [
    "result_excel=pd.ExcelWriter(xlsxname+'_result.xlsx',engine='xlsxwriter')\n"
   ]
  },
  {
   "cell_type": "code",
   "execution_count": null,
   "id": "d41f7807",
   "metadata": {
    "id": "d41f7807"
   },
   "outputs": [],
   "source": [
    "import sys\n",
    "\n",
    "for stl in range(sheetlen):\n",
    "    xlsxfile=pd.read_excel(xlsxname+'.xlsx',sheet_name=stl)\n",
    "    xlsxfile['위도']=None\n",
    "    xlsxfile['경도']=None\n",
    "    xlsxfile['좌표정보(x)']=None\n",
    "    xlsxfile['좌표정보(y)']=None\n",
    "#     print(xlsxfile.columns)\n",
    "    \n",
    "    for idx, v in xlsxfile.iterrows():\n",
    "        \n",
    "        if '상호명' in xlsxfile.columns:\n",
    "            name=str(v['상호명'])\n",
    "        \n",
    "        elif '업체명' in xlsxfile.columns:\n",
    "            name=str(v['업체명'])\n",
    "        \n",
    "        elif '학교' in xlsxfile.columns:\n",
    "            name=str(v['학교'])\n",
    "        \n",
    "        \n",
    "        addr=v['주소']\n",
    "       \n",
    "\n",
    "        if '(' in addr:\n",
    "            addr=' '.join(addr[:addr.index('(')].split()[1:])\n",
    "        else:\n",
    "            addr=' '.join(addr.split()[1:])\n",
    "\n",
    "\n",
    "        #url 파트 \n",
    "        a = list(addr.split())\n",
    "\n",
    "        m = \"https://search.naver.com/search.naver?sm=tab_hty.top&where=nexearch&query=\"\n",
    "\n",
    "        for i in a:\n",
    "            m += \"+\"\n",
    "            m += i\n",
    "\n",
    "        xlsxfile['네이버 Url'][idx] = m+\"+\"+name\n",
    "        #####\n",
    "\n",
    "\n",
    "\n",
    "    #     print(addr)\n",
    "        try:\n",
    "            if ('(' in name ) or (')' in name):\n",
    "                tmp=restaurant[((restaurant['소재지전체주소'].str.contains(addr))|(restaurant['도로명전체주소'].str.contains(addr)))&(restaurant['사업장명']==name)]\n",
    "            \n",
    "\n",
    "            else:\n",
    "                tmp=restaurant[((restaurant['소재지전체주소'].str.contains(addr))|(restaurant['도로명전체주소'].str.contains(addr)))&(restaurant['사업장명'].str.contains(name))]\n",
    "\n",
    "            if len(tmp)>0:\n",
    "                if tmp.head(1).reset_index()['상세영업상태명'][0]!='영업':\n",
    "                    xlsxfile['영업 여부(1:Y/2:N)'][idx]=2\n",
    "\n",
    "                else:\n",
    "                    xlsxfile['영업 여부(1:Y/2:N)'][idx]=1\n",
    "\n",
    "                    if xlsxfile['좌표정보(x)'][idx]==0 and xlsxfile['좌표정보(y)'][idx]==0:\n",
    "                        continue\n",
    "                    else:\n",
    "                        xlsxfile['좌표정보(x)'][idx]=tmp.head(1).reset_index()['좌표정보(x)'][0]\n",
    "                        xlsxfile['좌표정보(y)'][idx]=tmp.head(1).reset_index()['좌표정보(y)'][0]\n",
    "                        xlsxfile['위도'][idx]=tmp.head(1).reset_index()['위도'][0]\n",
    "                        xlsxfile['경도'][idx]=tmp.head(1).reset_index()['경도'][0]\n",
    "\n",
    "                print('변경',idx)\n",
    "\n",
    "            else:\n",
    "                print('패스',idx)\n",
    "\n",
    "                continue\n",
    "        except:\n",
    "            print('에러남 ')\n",
    "            print(restaurant['소재지전체주소'])\n",
    "            print(restaurant['도로명전체주소'])\n",
    "            print(restaurant['사업장명'])\n",
    "            print(addr)\n",
    "            print(name)\n",
    "            print(idx)\n",
    "            sys.exit(0)\n",
    "\n",
    "    xlsxfile=xlsxfile.reset_index(drop=True)\n",
    "    \n",
    "    xlsxfile.to_excel(result_excel,sheet_name=str(stl+1)+'번째 시트.xlsx', index=False)\n",
    "    xlsxfile.to_csv(str(stl+1)+'번째 시트.csv', index=False)\n",
    "\n",
    "result_excel.save()\n",
    "# 엑셀저장"
   ]
  }
 ],
 "metadata": {
  "colab": {
   "collapsed_sections": [],
   "name": "easy.ipynb",
   "provenance": []
  },
  "kernelspec": {
   "display_name": "tf",
   "language": "python",
   "name": "tf"
  },
  "language_info": {
   "codemirror_mode": {
    "name": "ipython",
    "version": 3
   },
   "file_extension": ".py",
   "mimetype": "text/x-python",
   "name": "python",
   "nbconvert_exporter": "python",
   "pygments_lexer": "ipython3",
   "version": "3.8.5"
  }
 },
 "nbformat": 4,
 "nbformat_minor": 5
}
